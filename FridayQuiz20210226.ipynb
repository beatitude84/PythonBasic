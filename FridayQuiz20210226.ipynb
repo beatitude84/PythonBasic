{
  "nbformat": 4,
  "nbformat_minor": 0,
  "metadata": {
    "colab": {
      "name": "FridayQuiz20210226.ipynb",
      "provenance": [],
      "include_colab_link": true
    },
    "kernelspec": {
      "name": "python3",
      "display_name": "Python 3"
    }
  },
  "cells": [
    {
      "cell_type": "markdown",
      "metadata": {
        "id": "view-in-github",
        "colab_type": "text"
      },
      "source": [
        "<a href=\"https://colab.research.google.com/github/beatitude84/PythonBasic/blob/main/FridayQuiz20210226.ipynb\" target=\"_parent\"><img src=\"https://colab.research.google.com/assets/colab-badge.svg\" alt=\"Open In Colab\"/></a>"
      ]
    },
    {
      "cell_type": "code",
      "metadata": {
        "colab": {
          "base_uri": "https://localhost:8080/"
        },
        "id": "sF_VQ5uExWvH",
        "outputId": "3a376cd0-f275-47ed-98b4-1becc481e249"
      },
      "source": [
        "# 데이터 입력 받아서 처리 \r\n",
        "\r\n",
        "a=input().split()\r\n",
        "\r\n",
        "print(a)"
      ],
      "execution_count": null,
      "outputs": [
        {
          "output_type": "stream",
          "text": [
            "70 100\n",
            "['70', '100']\n"
          ],
          "name": "stdout"
        }
      ]
    },
    {
      "cell_type": "code",
      "metadata": {
        "colab": {
          "base_uri": "https://localhost:8080/"
        },
        "id": "2VA9OZag1K3l",
        "outputId": "807cc4ad-acfe-46a3-f8d5-5bce82684c7c"
      },
      "source": [
        "# 숫자로 입력 받아서 처리 \r\n",
        "a = map(int,input().split())\r\n",
        "\r\n",
        "print(a)"
      ],
      "execution_count": null,
      "outputs": [
        {
          "output_type": "stream",
          "text": [
            "70 100\n",
            "<map object at 0x7f3ce1702650>\n"
          ],
          "name": "stdout"
        }
      ]
    },
    {
      "cell_type": "code",
      "metadata": {
        "colab": {
          "base_uri": "https://localhost:8080/"
        },
        "id": "r74OiizR2cq2",
        "outputId": "560767d5-039b-487c-f920-0a86887e1c3f"
      },
      "source": [
        "a = [1,2,3,4]\r\n",
        "b = [100,200,300,400]\r\n",
        "\r\n",
        "print(list(zip(a,b)))"
      ],
      "execution_count": null,
      "outputs": [
        {
          "output_type": "stream",
          "text": [
            "[(1, 100), (2, 200), (3, 300), (4, 400)]\n"
          ],
          "name": "stdout"
        }
      ]
    },
    {
      "cell_type": "code",
      "metadata": {
        "colab": {
          "base_uri": "https://localhost:8080/"
        },
        "id": "9IgtBELn3BCi",
        "outputId": "e73d1722-77ab-42c0-ade7-3f83fd4bf7bd"
      },
      "source": [
        "###########################################################\r\n",
        "# Quiz 27 딕셔너리 만들기 \r\n",
        "###########################################################\r\n",
        "\r\n",
        "key = input().split()\r\n",
        "value = map(int, input().split())\r\n",
        "\r\n",
        "print(dict(zip(key,value)))\r\n",
        "\r\n",
        "\r\n",
        "\r\n",
        "############################################################"
      ],
      "execution_count": null,
      "outputs": [
        {
          "output_type": "stream",
          "text": [
            "홍길동 이몽룡\n",
            "70 100\n",
            "{'홍길동': 70, '이몽룡': 100}\n"
          ],
          "name": "stdout"
        }
      ]
    },
    {
      "cell_type": "code",
      "metadata": {
        "id": "wCS639re9H7J"
      },
      "source": [
        "input\r\n",
        "for\r\n",
        "range\r\n",
        "len\r\n",
        "print\r\n",
        "\r\n",
        "a[i]    a[i+1]\r\n"
      ],
      "execution_count": null,
      "outputs": []
    },
    {
      "cell_type": "code",
      "metadata": {
        "colab": {
          "base_uri": "https://localhost:8080/"
        },
        "id": "KKUnIBwG_qZi",
        "outputId": "033af443-2ba8-4e09-ebc3-57f2ad2a16c2"
      },
      "source": [
        "###########################################################\r\n",
        "# Quiz 28 2-gram \r\n",
        "###########################################################\r\n",
        "\r\n",
        "txt = input()  # Python   6글자\r\n",
        "\r\n",
        "for i in range(len(txt)-1): #   6    0,1,2,3,4,5\r\n",
        "  print(txt[i],txt[i+1],sep='')\r\n",
        "\r\n",
        "\r\n",
        "###########################################################\r\n"
      ],
      "execution_count": null,
      "outputs": [
        {
          "output_type": "stream",
          "text": [
            "python\n",
            "py\n",
            "yt\n",
            "th\n",
            "ho\n",
            "on\n"
          ],
          "name": "stdout"
        }
      ]
    },
    {
      "cell_type": "code",
      "metadata": {
        "id": "LdrEKb1hCuik"
      },
      "source": [
        "isupper  대문자인지 확인  ***\r\n",
        "islower  소문자인지 확인\r\n",
        "isdigit  숫자인지 확인\r\n",
        "\r\n",
        "\r\n",
        "ord  ascII 코드 값을 확인   65 A    90 Z\r\n",
        "chr"
      ],
      "execution_count": null,
      "outputs": []
    },
    {
      "cell_type": "code",
      "metadata": {
        "colab": {
          "base_uri": "https://localhost:8080/"
        },
        "id": "d9uZ3aM5BgDW",
        "outputId": "c8fc10d0-ed0b-4a66-891c-7941eb75caaf"
      },
      "source": [
        "###########################################################\r\n",
        "# Quiz 29 대문자만 지나가세요 \r\n",
        "###########################################################\r\n",
        "\r\n",
        "# txt = input()\r\n",
        "# if txt.isupper():\r\n",
        "#   print('YES')\r\n",
        "# else:\r\n",
        "#   print('NO')\r\n",
        "\r\n",
        "txt = input()\r\n",
        "if ord(txt) >= 65 and ord(txt) <= 90:\r\n",
        "  print('YES')\r\n",
        "else:\r\n",
        "  print('NO')\r\n",
        "\r\n",
        "\r\n",
        "########################################################"
      ],
      "execution_count": null,
      "outputs": [
        {
          "output_type": "stream",
          "text": [
            "a\n",
            "NO\n"
          ],
          "name": "stdout"
        }
      ]
    },
    {
      "cell_type": "code",
      "metadata": {
        "colab": {
          "base_uri": "https://localhost:8080/"
        },
        "id": "jC9NFsZvNX9I",
        "outputId": "c676e1d2-a0c9-4229-e8ba-0087eb3fc8d3"
      },
      "source": [
        "a = 'pineapple is yummy'\r\n",
        "\r\n",
        "#print(a.index('banana'))\r\n",
        "print(a.find('banana'))\r\n",
        "# index \r\n",
        "# find"
      ],
      "execution_count": null,
      "outputs": [
        {
          "output_type": "stream",
          "text": [
            "-1\n"
          ],
          "name": "stdout"
        }
      ]
    },
    {
      "cell_type": "code",
      "metadata": {
        "colab": {
          "base_uri": "https://localhost:8080/"
        },
        "id": "C0tB5oKIFxte",
        "outputId": "0f799cd0-6b07-4c33-de7e-680ec684e1cd"
      },
      "source": [
        "###########################################################\r\n",
        "# Quiz 30  문자열 속 문자 찾기\r\n",
        "###########################################################\r\n",
        "\r\n",
        "a = 'pineapple is yummy'\r\n",
        "\r\n",
        "print(a.find('pine'))\r\n",
        "\r\n",
        "###########################################################"
      ],
      "execution_count": null,
      "outputs": [
        {
          "output_type": "stream",
          "text": [
            "0\n"
          ],
          "name": "stdout"
        }
      ]
    },
    {
      "cell_type": "code",
      "metadata": {
        "id": "QGVHXuGhStln"
      },
      "source": [
        ""
      ],
      "execution_count": null,
      "outputs": []
    },
    {
      "cell_type": "code",
      "metadata": {
        "colab": {
          "base_uri": "https://localhost:8080/"
        },
        "id": "-2PMVZhXO0av",
        "outputId": "f0c33517-11ed-4c01-ea54-04ec628729f2"
      },
      "source": [
        "# input \r\n",
        "# split\r\n",
        "# len\r\n",
        "\r\n",
        "\r\n",
        "\r\n",
        "# +@\r\n",
        "# 진심을 느껴봐 \r\n",
        "# strip\r\n",
        "# lstrip\r\n",
        "# rstrip\r\n",
        "\r\n",
        "\r\n",
        "txt = \" 빅데이터 \"\r\n",
        "print(txt.strip())\r\n",
        "\r\n",
        "\r\n"
      ],
      "execution_count": null,
      "outputs": [
        {
          "output_type": "stream",
          "text": [
            "빅데이터\n"
          ],
          "name": "stdout"
        }
      ]
    },
    {
      "cell_type": "code",
      "metadata": {
        "colab": {
          "base_uri": "https://localhost:8080/"
        },
        "id": "Wwd_zc3zSuDp",
        "outputId": "45b73ded-be75-47a8-8f60-ccbabd40d2f4"
      },
      "source": [
        "###########################################################\r\n",
        "# Quiz 32 문자열 만들기\r\n",
        "###########################################################\r\n",
        "txt = input() \r\n",
        "a = list(txt.split())\r\n",
        "print(len(a))\r\n",
        "\r\n",
        "\r\n",
        "###########################################################"
      ],
      "execution_count": null,
      "outputs": [
        {
          "output_type": "stream",
          "text": [
            "우리는 민족 중흥의 역사적\n",
            "4\n"
          ],
          "name": "stdout"
        }
      ]
    },
    {
      "cell_type": "code",
      "metadata": {
        "colab": {
          "base_uri": "https://localhost:8080/"
        },
        "id": "w45LHXQ3Vxlt",
        "outputId": "7040df5e-927a-49d6-82e8-39dc54db9492"
      },
      "source": [
        "for i in range(10):\r\n",
        "  print(i)"
      ],
      "execution_count": null,
      "outputs": [
        {
          "output_type": "stream",
          "text": [
            "0\n",
            "1\n",
            "2\n",
            "3\n",
            "4\n",
            "5\n",
            "6\n",
            "7\n",
            "8\n",
            "9\n"
          ],
          "name": "stdout"
        }
      ]
    },
    {
      "cell_type": "code",
      "metadata": {
        "colab": {
          "base_uri": "https://localhost:8080/"
        },
        "id": "Y5R2xrbvZOaU",
        "outputId": "1e47d665-07dc-4b5b-82fb-6dcb425bc945"
      },
      "source": [
        "for i in range(0,10):\r\n",
        "  print(i)"
      ],
      "execution_count": null,
      "outputs": [
        {
          "output_type": "stream",
          "text": [
            "0\n",
            "1\n",
            "2\n",
            "3\n",
            "4\n",
            "5\n",
            "6\n",
            "7\n",
            "8\n",
            "9\n"
          ],
          "name": "stdout"
        }
      ]
    },
    {
      "cell_type": "code",
      "metadata": {
        "colab": {
          "base_uri": "https://localhost:8080/"
        },
        "id": "ElzvsRnGZJbl",
        "outputId": "da838f01-59d3-4e4b-ae2d-8d5d5eb48a26"
      },
      "source": [
        "for i in range(10-1,-1,-1):\r\n",
        "  print(i)"
      ],
      "execution_count": null,
      "outputs": [
        {
          "output_type": "stream",
          "text": [
            "9\n",
            "8\n",
            "7\n",
            "6\n",
            "5\n",
            "4\n",
            "3\n",
            "2\n",
            "1\n",
            "0\n"
          ],
          "name": "stdout"
        }
      ]
    },
    {
      "cell_type": "code",
      "metadata": {
        "colab": {
          "base_uri": "https://localhost:8080/"
        },
        "id": "ZR_6udr9Z0Zq",
        "outputId": "2f711ac8-545c-429b-de3a-9388c9a819b8"
      },
      "source": [
        "###########################################################\r\n",
        "# Quiz 33 거꾸로 출력하기\r\n",
        "###########################################################\r\n",
        "txt = input()\r\n",
        "txt2 = list(txt.split())\r\n",
        "txt3 = [int(i) for i in txt2]\r\n",
        "\r\n",
        "for i in range(len(txt3)-1,-1,-1):\r\n",
        "  print(txt3[i], end=' ')\r\n",
        "\r\n",
        "\r\n",
        "###########################################################"
      ],
      "execution_count": null,
      "outputs": [
        {
          "output_type": "stream",
          "text": [
            "1 2 3 4 5\n",
            "5 4 3 2 1 "
          ],
          "name": "stdout"
        }
      ]
    },
    {
      "cell_type": "code",
      "metadata": {
        "colab": {
          "base_uri": "https://localhost:8080/"
        },
        "id": "CSjSki5taSoj",
        "outputId": "c31466b8-cd62-401f-c058-22752a1ad909"
      },
      "source": [
        "# sorted   &   sort\r\n",
        "\r\n",
        "list = [1,3,2]\r\n",
        "print(list.sort())"
      ],
      "execution_count": null,
      "outputs": [
        {
          "output_type": "stream",
          "text": [
            "None\n"
          ],
          "name": "stdout"
        }
      ]
    },
    {
      "cell_type": "code",
      "metadata": {
        "colab": {
          "base_uri": "https://localhost:8080/"
        },
        "id": "oDyapll1d-VS",
        "outputId": "bf525ff8-5750-4b89-bb4b-c95621486c12"
      },
      "source": [
        "print(list)"
      ],
      "execution_count": null,
      "outputs": [
        {
          "output_type": "stream",
          "text": [
            "[1, 2, 3]\n"
          ],
          "name": "stdout"
        }
      ]
    },
    {
      "cell_type": "code",
      "metadata": {
        "colab": {
          "base_uri": "https://localhost:8080/"
        },
        "id": "ECtPLzXKeFEg",
        "outputId": "341a318d-6636-4688-8041-87afccabe337"
      },
      "source": [
        "list = [1,3,2]\r\n",
        "print(sorted(list))"
      ],
      "execution_count": null,
      "outputs": [
        {
          "output_type": "stream",
          "text": [
            "[1, 2, 3]\n"
          ],
          "name": "stdout"
        }
      ]
    },
    {
      "cell_type": "code",
      "metadata": {
        "colab": {
          "base_uri": "https://localhost:8080/"
        },
        "id": "RhmFSBpCecsn",
        "outputId": "baf42443-d770-4303-f174-70974c14abe1"
      },
      "source": [
        "print(list)"
      ],
      "execution_count": null,
      "outputs": [
        {
          "output_type": "stream",
          "text": [
            "[1, 3, 2]\n"
          ],
          "name": "stdout"
        }
      ]
    },
    {
      "cell_type": "code",
      "metadata": {
        "id": "QZebwpnneiKp"
      },
      "source": [
        "# <list>.sort()를 사용하면 원본 리스트 자체의 순서를 변화 시킨다. \r\n",
        "soted(<list>) 를 사용하면 정렬된 새로운 리스트를 반환 받는다. \r\n",
        "\r\n",
        "<list>.sort()는 새로운 복사본을 만들지 않기 떄문에\r\n",
        "sorted(<list>) 보다 빠르다. "
      ],
      "execution_count": null,
      "outputs": []
    },
    {
      "cell_type": "code",
      "metadata": {
        "colab": {
          "base_uri": "https://localhost:8080/"
        },
        "id": "Q2a29kv7fnl3",
        "outputId": "bb26e649-a45c-4edf-d182-945f59d25d82"
      },
      "source": [
        "num1 = input()\r\n",
        "\r\n",
        "num2 = num1.strip().split()\r\n",
        "num3 = [int(i) for i in num2 ]\r\n",
        "\r\n",
        "if num3 != sorted(num3):\r\n",
        "  print(\"NO\")\r\n",
        "else:\r\n",
        "  print(\"YES\")\r\n",
        "  "
      ],
      "execution_count": null,
      "outputs": [
        {
          "output_type": "stream",
          "text": [
            "1 2 3 5 4\n",
            "NO\n"
          ],
          "name": "stdout"
        }
      ]
    },
    {
      "cell_type": "code",
      "metadata": {
        "id": "zA_kpAFehTlx",
        "colab": {
          "base_uri": "https://localhost:8080/"
        },
        "outputId": "e89aeb5e-ca85-4469-95ed-03782d07fb41"
      },
      "source": [
        "###########################################################\r\n",
        "# Quiz 35 생략\r\n",
        "# Quiz 36 구구단 출력하기\r\n",
        "###########################################################\r\n",
        "\r\n",
        "n = int(input())\r\n",
        "for i in range(1, 10):\r\n",
        "\tprint(n*i, end = ' ')\r\n",
        "\r\n",
        "###########################################################"
      ],
      "execution_count": null,
      "outputs": [
        {
          "output_type": "stream",
          "text": [
            "3\n",
            "3 6 9 12 15 18 21 24 27 "
          ],
          "name": "stdout"
        }
      ]
    },
    {
      "cell_type": "code",
      "metadata": {
        "colab": {
          "base_uri": "https://localhost:8080/"
        },
        "id": "UZDPK1wU2k37",
        "outputId": "e6ea9f3d-8a7b-4d80-8719-a327b8270be1"
      },
      "source": [
        "# count 함수\r\n",
        "\r\n",
        "# 기본 문법 : 변수.count(찾는값)\r\n",
        "\r\n",
        "# a = 'ooyyy'\r\n",
        "# a.count('y')\r\n",
        "\r\n",
        "# b = 'ox o x oxoxoxo'\r\n",
        "# b.count('ox')\r\n",
        "\r\n",
        "a = [1,1,1,2,3]\r\n",
        "a.count(1)"
      ],
      "execution_count": null,
      "outputs": [
        {
          "output_type": "execute_result",
          "data": {
            "text/plain": [
              "3"
            ]
          },
          "metadata": {
            "tags": []
          },
          "execution_count": 62
        }
      ]
    },
    {
      "cell_type": "code",
      "metadata": {
        "id": "BubyYUTx0v1G",
        "colab": {
          "base_uri": "https://localhost:8080/"
        },
        "outputId": "db5f143c-850e-4580-eeb7-87dab1d5d1d5"
      },
      "source": [
        "###########################################################\r\n",
        "# Quiz 37 count 사용하기\r\n",
        "###########################################################\r\n",
        "\r\n",
        "a = input().split()\r\n",
        "b = list(set(a))\r\n",
        "\r\n",
        "max = 0\r\n",
        "\r\n",
        "for i in range(len(b)):   # 0,1,2\r\n",
        "  if a.count(b[i]) > a.count(b[max]):   \r\n",
        "    max = i\r\n",
        "\r\n",
        "    # 채연의 개수 2 >  채연의 개수 2\r\n",
        "    # 은비의 개수 4 >  채연의 개수 2     max = 1\r\n",
        "    # 원영의 개수 2 >  은비의 개수 4     max = 1\r\n",
        "\r\n",
        "print(\"%s(이)가 총 %d표로 반장이 되었습니다.\"% (b[max], a.count(b[max])))\r\n",
        "\r\n",
        "# print(a)['원영', '원영', '은비', '은비', '은비', '은비', '채연', '채연']\r\n",
        "# print(b)['채연', '은비', '원영']\r\n",
        "\r\n",
        "# 원영 원영 은비 은비 은비 은비 채연 채연\r\n",
        "###########################################################"
      ],
      "execution_count": null,
      "outputs": [
        {
          "output_type": "stream",
          "text": [
            "원영 원영 은비 은비 은비 은비 채연 채연\n",
            "은비(이)가 총 4표로 반장이 되었습니다.\n"
          ],
          "name": "stdout"
        }
      ]
    },
    {
      "cell_type": "code",
      "metadata": {
        "colab": {
          "base_uri": "https://localhost:8080/"
        },
        "id": "Stld82QtDrIm",
        "outputId": "8b23d388-c6c4-429f-8eb0-6bae1f9c8a74"
      },
      "source": [
        "###########################################################\r\n",
        "# Quiz 38 오타 수정하기.\r\n",
        "###########################################################\r\n",
        "\r\n",
        "a = input()\r\n",
        "print(a.replace('q', 'e'))\r\n",
        "\r\n"
      ],
      "execution_count": null,
      "outputs": [
        {
          "output_type": "stream",
          "text": [
            "qqqjlbjlkbnljqqq   qqq  nklnqq\n",
            "eeejlbjlkbnljeee   eee  nklnee\n"
          ],
          "name": "stdout"
        }
      ]
    },
    {
      "cell_type": "code",
      "metadata": {
        "colab": {
          "base_uri": "https://localhost:8080/"
        },
        "id": "0ST46x2VEdsv",
        "outputId": "72e0efb6-3921-4319-e830-0f0ef634e31f"
      },
      "source": [
        "###########################################################\r\n",
        "# Quiz 41 소수 판별   *****\r\n",
        "###########################################################\r\n",
        "\r\n",
        "\r\n",
        "a = int(input())# 숫자를 입력 받는다. #11\r\n",
        "\r\n",
        "re = 0 # re 변수 초기화 \r\n",
        "\r\n",
        "for i in range(1, a+1):# 반복문 (그 수까지)\r\n",
        "  if a % i == 0:  #조건 입력받은 수를 그 수 앞에 모든 수로 나눈 나머지 값이 0이면\r\n",
        "    re += 1       #re 값을 하나씩 증가 \r\n",
        "     \r\n",
        "\r\n",
        "if re == 2:#re 값이 2면 \r\n",
        "  print('YES')  #소수\r\n",
        "else:#아니면\r\n",
        "  print('NO')  #NO\r\n",
        "\r\n",
        "\r\n",
        "  \r\n"
      ],
      "execution_count": null,
      "outputs": [
        {
          "output_type": "stream",
          "text": [
            "11\n",
            "YES\n"
          ],
          "name": "stdout"
        }
      ]
    },
    {
      "cell_type": "code",
      "metadata": {
        "colab": {
          "base_uri": "https://localhost:8080/"
        },
        "id": "HR_gZI3HQ7Em",
        "outputId": "051300b6-3fa2-4c9e-efca-cdcf9999c12e"
      },
      "source": [
        "###########################################################\r\n",
        "# Quiz 44 각 자리수의 합\r\n",
        "###########################################################\r\n",
        "\r\n",
        "# n = list(map(int,input()))# 숫자로 입력받기\r\n",
        "# sum = 0\r\n",
        "# for i in n: # 반복문 : 입력 받은 숫자를 하나씩\r\n",
        "#   sum += i #누적합계 구하기\r\n",
        "   \r\n",
        "# print(sum)#합계 출력\r\n",
        "\r\n",
        "sum = 0\r\n",
        "for i in input():\r\n",
        "  sum += int(i)\r\n",
        "\r\n",
        "print(sum)\r\n",
        "\r\n",
        "\r\n",
        "\r\n",
        "###########################################################"
      ],
      "execution_count": null,
      "outputs": [
        {
          "output_type": "stream",
          "text": [
            "1234\n",
            "10\n"
          ],
          "name": "stdout"
        }
      ]
    },
    {
      "cell_type": "code",
      "metadata": {
        "id": "DSy4krepVYAS"
      },
      "source": [
        ""
      ],
      "execution_count": null,
      "outputs": []
    },
    {
      "cell_type": "code",
      "metadata": {
        "colab": {
          "base_uri": "https://localhost:8080/"
        },
        "id": "diroQr1qVYI-",
        "outputId": "43c781b9-aee5-4895-ab51-ebcfd2022b97"
      },
      "source": [
        "###########################################################\r\n",
        "# Quiz 46 str자료형의 응용\r\n",
        "###########################################################\r\n",
        "\r\n",
        "\r\n",
        "\r\n",
        "sum = 0\r\n",
        "for i in list(range(21)):\r\n",
        "  for j in str(i):\r\n",
        "    sum += int(j)\r\n",
        "\r\n",
        "print(sum)\r\n",
        "\r\n",
        "* 변형 : 임의수를 입력 받아서 계산하기로 변경  7교시   \r\n",
        "\r\n",
        "\r\n",
        "###########################################################"
      ],
      "execution_count": null,
      "outputs": [
        {
          "output_type": "stream",
          "text": [
            "20\n",
            "2\n"
          ],
          "name": "stdout"
        }
      ]
    },
    {
      "cell_type": "code",
      "metadata": {
        "colab": {
          "base_uri": "https://localhost:8080/"
        },
        "id": "jFIPdY77fN5W",
        "outputId": "b1f4d554-050e-4368-d72c-64951000a7cb"
      },
      "source": [
        "###########################################################\r\n",
        "#            QnA\r\n",
        "###########################################################\r\n",
        "\r\n",
        "a = list(input().split())\r\n",
        "\r\n",
        "for i in range(0, len(a)):\r\n",
        "    print(a.pop(), end = \" \")\r\n",
        "\r\n",
        "\r\n",
        "\r\n",
        "\r\n",
        "\r\n",
        "\r\n",
        "\r\n"
      ],
      "execution_count": null,
      "outputs": [
        {
          "output_type": "stream",
          "text": [
            "12345\n",
            "12345 "
          ],
          "name": "stdout"
        }
      ]
    }
  ]
}